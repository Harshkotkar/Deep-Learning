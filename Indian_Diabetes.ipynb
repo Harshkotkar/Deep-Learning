{
  "metadata": {
    "kernelspec": {
      "language": "python",
      "display_name": "Python 3",
      "name": "python3"
    },
    "language_info": {
      "name": "python",
      "version": "3.11.13",
      "mimetype": "text/x-python",
      "codemirror_mode": {
        "name": "ipython",
        "version": 3
      },
      "pygments_lexer": "ipython3",
      "nbconvert_exporter": "python",
      "file_extension": ".py"
    },
    "kaggle": {
      "accelerator": "none",
      "dataSources": [
        {
          "sourceId": 482,
          "sourceType": "datasetVersion",
          "datasetId": 228
        }
      ],
      "dockerImageVersionId": 31089,
      "isInternetEnabled": true,
      "language": "python",
      "sourceType": "notebook",
      "isGpuEnabled": false
    },
    "colab": {
      "name": " Indian Diabetes ",
      "provenance": [],
      "include_colab_link": true
    }
  },
  "nbformat_minor": 0,
  "nbformat": 4,
  "cells": [
    {
      "cell_type": "markdown",
      "metadata": {
        "id": "view-in-github",
        "colab_type": "text"
      },
      "source": [
        "<a href=\"https://colab.research.google.com/github/Harshkotkar/Deep-Learning/blob/main/Indian_Diabetes.ipynb\" target=\"_parent\"><img src=\"https://colab.research.google.com/assets/colab-badge.svg\" alt=\"Open In Colab\"/></a>"
      ]
    },
    {
      "source": [
        "import kagglehub\n",
        "uciml_pima_indians_diabetes_database_path = kagglehub.dataset_download('uciml/pima-indians-diabetes-database')\n",
        "\n",
        "print('Data source import complete.')\n"
      ],
      "metadata": {
        "id": "KP7hVEBcLhTr"
      },
      "cell_type": "code",
      "outputs": [],
      "execution_count": null
    },
    {
      "cell_type": "code",
      "source": [
        "import pandas as pd\n",
        "import numpy as np\n",
        "import matplotlib.pyplot as plt\n",
        "import seaborn as sns\n",
        "from sklearn.preprocessing import StandardScaler\n",
        "from sklearn.metrics import accuracy_score,confusion_matrix,classification_report\n",
        "from sklearn.model_selection import train_test_split\n",
        "import warnings\n",
        "warnings.filterwarnings('ignore')"
      ],
      "metadata": {
        "_uuid": "8f2839f25d086af736a60e9eeb907d3b93b6e0e5",
        "_cell_guid": "b1076dfc-b9ad-4769-8c92-a6c4dae69d19",
        "trusted": true,
        "execution": {
          "iopub.status.busy": "2025-08-10T09:21:58.496364Z",
          "iopub.execute_input": "2025-08-10T09:21:58.496656Z",
          "iopub.status.idle": "2025-08-10T09:22:00.979604Z",
          "shell.execute_reply.started": "2025-08-10T09:21:58.496626Z",
          "shell.execute_reply": "2025-08-10T09:22:00.97861Z"
        },
        "id": "aJ7kjIs0LhTv"
      },
      "outputs": [],
      "execution_count": 2
    },
    {
      "cell_type": "code",
      "source": [
        "path=\"/kaggle/input/pima-indians-diabetes-database/diabetes.csv\"\n",
        "df=pd.read_csv(path)\n",
        "df.head()"
      ],
      "metadata": {
        "trusted": true,
        "execution": {
          "iopub.status.busy": "2025-08-10T09:22:38.90689Z",
          "iopub.execute_input": "2025-08-10T09:22:38.90724Z",
          "iopub.status.idle": "2025-08-10T09:22:38.939492Z",
          "shell.execute_reply.started": "2025-08-10T09:22:38.907195Z",
          "shell.execute_reply": "2025-08-10T09:22:38.938529Z"
        },
        "id": "AH8bR4HfLhTw",
        "outputId": "25172efc-914e-4467-ad96-afbe0d08a4f4"
      },
      "outputs": [
        {
          "execution_count": 3,
          "output_type": "execute_result",
          "data": {
            "text/plain": "   Pregnancies  Glucose  BloodPressure  SkinThickness  Insulin   BMI  \\\n0            6      148             72             35        0  33.6   \n1            1       85             66             29        0  26.6   \n2            8      183             64              0        0  23.3   \n3            1       89             66             23       94  28.1   \n4            0      137             40             35      168  43.1   \n\n   DiabetesPedigreeFunction  Age  Outcome  \n0                     0.627   50        1  \n1                     0.351   31        0  \n2                     0.672   32        1  \n3                     0.167   21        0  \n4                     2.288   33        1  ",
            "text/html": "<div>\n<style scoped>\n    .dataframe tbody tr th:only-of-type {\n        vertical-align: middle;\n    }\n\n    .dataframe tbody tr th {\n        vertical-align: top;\n    }\n\n    .dataframe thead th {\n        text-align: right;\n    }\n</style>\n<table border=\"1\" class=\"dataframe\">\n  <thead>\n    <tr style=\"text-align: right;\">\n      <th></th>\n      <th>Pregnancies</th>\n      <th>Glucose</th>\n      <th>BloodPressure</th>\n      <th>SkinThickness</th>\n      <th>Insulin</th>\n      <th>BMI</th>\n      <th>DiabetesPedigreeFunction</th>\n      <th>Age</th>\n      <th>Outcome</th>\n    </tr>\n  </thead>\n  <tbody>\n    <tr>\n      <th>0</th>\n      <td>6</td>\n      <td>148</td>\n      <td>72</td>\n      <td>35</td>\n      <td>0</td>\n      <td>33.6</td>\n      <td>0.627</td>\n      <td>50</td>\n      <td>1</td>\n    </tr>\n    <tr>\n      <th>1</th>\n      <td>1</td>\n      <td>85</td>\n      <td>66</td>\n      <td>29</td>\n      <td>0</td>\n      <td>26.6</td>\n      <td>0.351</td>\n      <td>31</td>\n      <td>0</td>\n    </tr>\n    <tr>\n      <th>2</th>\n      <td>8</td>\n      <td>183</td>\n      <td>64</td>\n      <td>0</td>\n      <td>0</td>\n      <td>23.3</td>\n      <td>0.672</td>\n      <td>32</td>\n      <td>1</td>\n    </tr>\n    <tr>\n      <th>3</th>\n      <td>1</td>\n      <td>89</td>\n      <td>66</td>\n      <td>23</td>\n      <td>94</td>\n      <td>28.1</td>\n      <td>0.167</td>\n      <td>21</td>\n      <td>0</td>\n    </tr>\n    <tr>\n      <th>4</th>\n      <td>0</td>\n      <td>137</td>\n      <td>40</td>\n      <td>35</td>\n      <td>168</td>\n      <td>43.1</td>\n      <td>2.288</td>\n      <td>33</td>\n      <td>1</td>\n    </tr>\n  </tbody>\n</table>\n</div>"
          },
          "metadata": {}
        }
      ],
      "execution_count": null
    },
    {
      "cell_type": "code",
      "source": [
        "df.shape"
      ],
      "metadata": {
        "trusted": true,
        "execution": {
          "iopub.status.busy": "2025-08-10T09:22:45.310923Z",
          "iopub.execute_input": "2025-08-10T09:22:45.311251Z",
          "iopub.status.idle": "2025-08-10T09:22:45.317409Z",
          "shell.execute_reply.started": "2025-08-10T09:22:45.311227Z",
          "shell.execute_reply": "2025-08-10T09:22:45.316426Z"
        },
        "id": "9NzU08JsLhTw",
        "outputId": "b4369416-10a5-47a8-956e-ec87aa745d41"
      },
      "outputs": [
        {
          "execution_count": 4,
          "output_type": "execute_result",
          "data": {
            "text/plain": "(768, 9)"
          },
          "metadata": {}
        }
      ],
      "execution_count": null
    },
    {
      "cell_type": "code",
      "source": [
        "df.info()"
      ],
      "metadata": {
        "trusted": true,
        "execution": {
          "iopub.status.busy": "2025-08-10T09:22:51.681128Z",
          "iopub.execute_input": "2025-08-10T09:22:51.681435Z",
          "iopub.status.idle": "2025-08-10T09:22:51.705104Z",
          "shell.execute_reply.started": "2025-08-10T09:22:51.681411Z",
          "shell.execute_reply": "2025-08-10T09:22:51.703884Z"
        },
        "id": "7DsBFxwWLhTw",
        "outputId": "95b6f99b-19a1-4603-eeeb-12b3134118ed"
      },
      "outputs": [
        {
          "name": "stdout",
          "text": "<class 'pandas.core.frame.DataFrame'>\nRangeIndex: 768 entries, 0 to 767\nData columns (total 9 columns):\n #   Column                    Non-Null Count  Dtype  \n---  ------                    --------------  -----  \n 0   Pregnancies               768 non-null    int64  \n 1   Glucose                   768 non-null    int64  \n 2   BloodPressure             768 non-null    int64  \n 3   SkinThickness             768 non-null    int64  \n 4   Insulin                   768 non-null    int64  \n 5   BMI                       768 non-null    float64\n 6   DiabetesPedigreeFunction  768 non-null    float64\n 7   Age                       768 non-null    int64  \n 8   Outcome                   768 non-null    int64  \ndtypes: float64(2), int64(7)\nmemory usage: 54.1 KB\n",
          "output_type": "stream"
        }
      ],
      "execution_count": null
    },
    {
      "cell_type": "code",
      "source": [
        "df.describe().T"
      ],
      "metadata": {
        "trusted": true,
        "execution": {
          "iopub.status.busy": "2025-08-10T09:23:19.291503Z",
          "iopub.execute_input": "2025-08-10T09:23:19.291857Z",
          "iopub.status.idle": "2025-08-10T09:23:19.359047Z",
          "shell.execute_reply.started": "2025-08-10T09:23:19.291831Z",
          "shell.execute_reply": "2025-08-10T09:23:19.357996Z"
        },
        "id": "dmilF7FVLhTx",
        "outputId": "404812fa-db9b-4e14-f6ee-2536fd377174"
      },
      "outputs": [
        {
          "execution_count": 7,
          "output_type": "execute_result",
          "data": {
            "text/plain": "                          count        mean         std     min       25%  \\\nPregnancies               768.0    3.845052    3.369578   0.000   1.00000   \nGlucose                   768.0  120.894531   31.972618   0.000  99.00000   \nBloodPressure             768.0   69.105469   19.355807   0.000  62.00000   \nSkinThickness             768.0   20.536458   15.952218   0.000   0.00000   \nInsulin                   768.0   79.799479  115.244002   0.000   0.00000   \nBMI                       768.0   31.992578    7.884160   0.000  27.30000   \nDiabetesPedigreeFunction  768.0    0.471876    0.331329   0.078   0.24375   \nAge                       768.0   33.240885   11.760232  21.000  24.00000   \nOutcome                   768.0    0.348958    0.476951   0.000   0.00000   \n\n                               50%        75%     max  \nPregnancies                 3.0000    6.00000   17.00  \nGlucose                   117.0000  140.25000  199.00  \nBloodPressure              72.0000   80.00000  122.00  \nSkinThickness              23.0000   32.00000   99.00  \nInsulin                    30.5000  127.25000  846.00  \nBMI                        32.0000   36.60000   67.10  \nDiabetesPedigreeFunction    0.3725    0.62625    2.42  \nAge                        29.0000   41.00000   81.00  \nOutcome                     0.0000    1.00000    1.00  ",
            "text/html": "<div>\n<style scoped>\n    .dataframe tbody tr th:only-of-type {\n        vertical-align: middle;\n    }\n\n    .dataframe tbody tr th {\n        vertical-align: top;\n    }\n\n    .dataframe thead th {\n        text-align: right;\n    }\n</style>\n<table border=\"1\" class=\"dataframe\">\n  <thead>\n    <tr style=\"text-align: right;\">\n      <th></th>\n      <th>count</th>\n      <th>mean</th>\n      <th>std</th>\n      <th>min</th>\n      <th>25%</th>\n      <th>50%</th>\n      <th>75%</th>\n      <th>max</th>\n    </tr>\n  </thead>\n  <tbody>\n    <tr>\n      <th>Pregnancies</th>\n      <td>768.0</td>\n      <td>3.845052</td>\n      <td>3.369578</td>\n      <td>0.000</td>\n      <td>1.00000</td>\n      <td>3.0000</td>\n      <td>6.00000</td>\n      <td>17.00</td>\n    </tr>\n    <tr>\n      <th>Glucose</th>\n      <td>768.0</td>\n      <td>120.894531</td>\n      <td>31.972618</td>\n      <td>0.000</td>\n      <td>99.00000</td>\n      <td>117.0000</td>\n      <td>140.25000</td>\n      <td>199.00</td>\n    </tr>\n    <tr>\n      <th>BloodPressure</th>\n      <td>768.0</td>\n      <td>69.105469</td>\n      <td>19.355807</td>\n      <td>0.000</td>\n      <td>62.00000</td>\n      <td>72.0000</td>\n      <td>80.00000</td>\n      <td>122.00</td>\n    </tr>\n    <tr>\n      <th>SkinThickness</th>\n      <td>768.0</td>\n      <td>20.536458</td>\n      <td>15.952218</td>\n      <td>0.000</td>\n      <td>0.00000</td>\n      <td>23.0000</td>\n      <td>32.00000</td>\n      <td>99.00</td>\n    </tr>\n    <tr>\n      <th>Insulin</th>\n      <td>768.0</td>\n      <td>79.799479</td>\n      <td>115.244002</td>\n      <td>0.000</td>\n      <td>0.00000</td>\n      <td>30.5000</td>\n      <td>127.25000</td>\n      <td>846.00</td>\n    </tr>\n    <tr>\n      <th>BMI</th>\n      <td>768.0</td>\n      <td>31.992578</td>\n      <td>7.884160</td>\n      <td>0.000</td>\n      <td>27.30000</td>\n      <td>32.0000</td>\n      <td>36.60000</td>\n      <td>67.10</td>\n    </tr>\n    <tr>\n      <th>DiabetesPedigreeFunction</th>\n      <td>768.0</td>\n      <td>0.471876</td>\n      <td>0.331329</td>\n      <td>0.078</td>\n      <td>0.24375</td>\n      <td>0.3725</td>\n      <td>0.62625</td>\n      <td>2.42</td>\n    </tr>\n    <tr>\n      <th>Age</th>\n      <td>768.0</td>\n      <td>33.240885</td>\n      <td>11.760232</td>\n      <td>21.000</td>\n      <td>24.00000</td>\n      <td>29.0000</td>\n      <td>41.00000</td>\n      <td>81.00</td>\n    </tr>\n    <tr>\n      <th>Outcome</th>\n      <td>768.0</td>\n      <td>0.348958</td>\n      <td>0.476951</td>\n      <td>0.000</td>\n      <td>0.00000</td>\n      <td>0.0000</td>\n      <td>1.00000</td>\n      <td>1.00</td>\n    </tr>\n  </tbody>\n</table>\n</div>"
          },
          "metadata": {}
        }
      ],
      "execution_count": null
    },
    {
      "cell_type": "code",
      "source": [
        "df.isnull().sum()"
      ],
      "metadata": {
        "trusted": true,
        "execution": {
          "iopub.status.busy": "2025-08-10T09:23:34.28272Z",
          "iopub.execute_input": "2025-08-10T09:23:34.283108Z",
          "iopub.status.idle": "2025-08-10T09:23:34.292627Z",
          "shell.execute_reply.started": "2025-08-10T09:23:34.283078Z",
          "shell.execute_reply": "2025-08-10T09:23:34.291325Z"
        },
        "id": "wOmVCsXyLhTx",
        "outputId": "c82f3b64-bccb-4b4d-8e7a-e2ad78ac0f3b"
      },
      "outputs": [
        {
          "execution_count": 8,
          "output_type": "execute_result",
          "data": {
            "text/plain": "Pregnancies                 0\nGlucose                     0\nBloodPressure               0\nSkinThickness               0\nInsulin                     0\nBMI                         0\nDiabetesPedigreeFunction    0\nAge                         0\nOutcome                     0\ndtype: int64"
          },
          "metadata": {}
        }
      ],
      "execution_count": null
    },
    {
      "cell_type": "code",
      "source": [
        "import"
      ],
      "metadata": {
        "trusted": true,
        "id": "PargElVKLhTx"
      },
      "outputs": [],
      "execution_count": null
    }
  ]
}