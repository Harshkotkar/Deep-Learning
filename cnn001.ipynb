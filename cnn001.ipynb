{
  "metadata": {
    "kernelspec": {
      "language": "python",
      "display_name": "Python 3",
      "name": "python3"
    },
    "language_info": {
      "name": "python",
      "version": "3.11.11",
      "mimetype": "text/x-python",
      "codemirror_mode": {
        "name": "ipython",
        "version": 3
      },
      "pygments_lexer": "ipython3",
      "nbconvert_exporter": "python",
      "file_extension": ".py"
    },
    "kaggle": {
      "accelerator": "nvidiaTeslaT4",
      "dataSources": [],
      "dockerImageVersionId": 31040,
      "isInternetEnabled": true,
      "language": "python",
      "sourceType": "notebook",
      "isGpuEnabled": true
    },
    "colab": {
      "name": "cnn001",
      "provenance": [],
      "include_colab_link": true
    }
  },
  "nbformat_minor": 0,
  "nbformat": 4,
  "cells": [
    {
      "cell_type": "markdown",
      "metadata": {
        "id": "view-in-github",
        "colab_type": "text"
      },
      "source": [
        "<a href=\"https://colab.research.google.com/github/Harshkotkar/Deep-Learning/blob/main/cnn001.ipynb\" target=\"_parent\"><img src=\"https://colab.research.google.com/assets/colab-badge.svg\" alt=\"Open In Colab\"/></a>"
      ]
    },
    {
      "cell_type": "code",
      "source": [
        "# This Python 3 environment comes with many helpful analytics libraries installed\n",
        "# It is defined by the kaggle/python Docker image: https://github.com/kaggle/docker-python\n",
        "# For example, here's several helpful packages to load\n",
        "\n",
        "import numpy as np # linear algebra\n",
        "import pandas as pd # data processing, CSV file I/O (e.g. pd.read_csv)\n",
        "\n",
        "# Input data files are available in the read-only \"../input/\" directory\n",
        "# For example, running this (by clicking run or pressing Shift+Enter) will list all files under the input directory\n",
        "\n",
        "import os\n",
        "for dirname, _, filenames in os.walk('/kaggle/input'):\n",
        "    for filename in filenames:\n",
        "        print(os.path.join(dirname, filename))\n",
        "\n",
        "# You can write up to 20GB to the current directory (/kaggle/working/) that gets preserved as output when you create a version using \"Save & Run All\"\n",
        "# You can also write temporary files to /kaggle/temp/, but they won't be saved outside of the current session"
      ],
      "metadata": {
        "_uuid": "8f2839f25d086af736a60e9eeb907d3b93b6e0e5",
        "_cell_guid": "b1076dfc-b9ad-4769-8c92-a6c4dae69d19",
        "trusted": true,
        "execution": {
          "iopub.status.busy": "2025-08-04T06:42:48.943898Z",
          "iopub.execute_input": "2025-08-04T06:42:48.944101Z",
          "iopub.status.idle": "2025-08-04T06:42:51.682763Z",
          "shell.execute_reply.started": "2025-08-04T06:42:48.944084Z",
          "shell.execute_reply": "2025-08-04T06:42:51.682161Z"
        },
        "id": "rfc2GEUOYzCX"
      },
      "outputs": [],
      "execution_count": null
    },
    {
      "cell_type": "code",
      "source": [
        "import tensorflow as tf\n",
        "import numpy as np\n",
        "import matplotlib.pyplot as plt\n",
        "import pandas as pd\n",
        "from tensorflow.keras.datasets import mnist\n",
        "from tensorflow.keras.models import Sequential\n",
        "from tensorflow.keras import layers,models\n",
        "from tensorflow.keras.layers import Conv2D,Dense,Flatten,MaxPooling2D\n",
        "from tensorflow.keras.utils import to_categorical\n",
        "from tensorflow.keras.callbacks import EarlyStopping\n",
        "import warnings\n",
        "warnings.filterwarnings(\"ignore\")"
      ],
      "metadata": {
        "trusted": true,
        "execution": {
          "iopub.status.busy": "2025-08-04T06:42:51.684041Z",
          "iopub.execute_input": "2025-08-04T06:42:51.68441Z",
          "iopub.status.idle": "2025-08-04T06:43:11.814608Z",
          "shell.execute_reply.started": "2025-08-04T06:42:51.684383Z",
          "shell.execute_reply": "2025-08-04T06:43:11.814057Z"
        },
        "id": "NLcRumYfYzCY",
        "outputId": "a42e9b4e-8c73-4ac2-d37a-b03235f361c4"
      },
      "outputs": [
        {
          "name": "stderr",
          "text": "2025-08-04 06:42:54.778027: E external/local_xla/xla/stream_executor/cuda/cuda_fft.cc:477] Unable to register cuFFT factory: Attempting to register factory for plugin cuFFT when one has already been registered\nWARNING: All log messages before absl::InitializeLog() is called are written to STDERR\nE0000 00:00:1754289775.150918      35 cuda_dnn.cc:8310] Unable to register cuDNN factory: Attempting to register factory for plugin cuDNN when one has already been registered\nE0000 00:00:1754289775.251897      35 cuda_blas.cc:1418] Unable to register cuBLAS factory: Attempting to register factory for plugin cuBLAS when one has already been registered\n",
          "output_type": "stream"
        }
      ],
      "execution_count": null
    },
    {
      "cell_type": "code",
      "source": [
        "(x_train,y_train),(x_test,y_test)=mnist.load_data()"
      ],
      "metadata": {
        "trusted": true,
        "execution": {
          "iopub.status.busy": "2025-08-04T06:43:11.818835Z",
          "iopub.execute_input": "2025-08-04T06:43:11.819061Z",
          "iopub.status.idle": "2025-08-04T06:43:12.2304Z",
          "shell.execute_reply.started": "2025-08-04T06:43:11.819037Z",
          "shell.execute_reply": "2025-08-04T06:43:12.22981Z"
        },
        "id": "nuazQSY0YzCZ",
        "outputId": "eeeefdc7-7b61-4d9d-c9e8-c7d2955b1098"
      },
      "outputs": [
        {
          "name": "stdout",
          "text": "Downloading data from https://storage.googleapis.com/tensorflow/tf-keras-datasets/mnist.npz\n\u001b[1m11490434/11490434\u001b[0m \u001b[32m━━━━━━━━━━━━━━━━━━━━\u001b[0m\u001b[37m\u001b[0m \u001b[1m0s\u001b[0m 0us/step\n",
          "output_type": "stream"
        }
      ],
      "execution_count": null
    },
    {
      "cell_type": "code",
      "source": [
        "x_train=x_train.reshape((-1,28,28,1)).astype(\"float32\")/255\n",
        "x_test=x_test.reshape((-1,28,28,1)).astype(\"float32\")/255\n"
      ],
      "metadata": {
        "trusted": true,
        "execution": {
          "iopub.status.busy": "2025-08-04T06:43:12.231117Z",
          "iopub.execute_input": "2025-08-04T06:43:12.231336Z",
          "iopub.status.idle": "2025-08-04T06:43:12.35358Z",
          "shell.execute_reply.started": "2025-08-04T06:43:12.231318Z",
          "shell.execute_reply": "2025-08-04T06:43:12.353008Z"
        },
        "id": "OPAaZrhqYzCZ"
      },
      "outputs": [],
      "execution_count": null
    },
    {
      "cell_type": "code",
      "source": [
        "img_scale=x_train[145]\n",
        "plt.imshow(img_scale,cmap=\"gray\")\n",
        "plt.title(img_scale.shape)\n",
        "plt.axis(False)\n",
        "plt.show()\n"
      ],
      "metadata": {
        "trusted": true,
        "execution": {
          "iopub.status.busy": "2025-08-04T06:43:12.354278Z",
          "iopub.execute_input": "2025-08-04T06:43:12.354465Z",
          "iopub.status.idle": "2025-08-04T06:43:12.613447Z",
          "shell.execute_reply.started": "2025-08-04T06:43:12.35445Z",
          "shell.execute_reply": "2025-08-04T06:43:12.612806Z"
        },
        "id": "QuyfMEqxYzCa",
        "outputId": "ce56fa44-3d6a-4f45-993a-77d6eda320a5"
      },
      "outputs": [
        {
          "output_type": "display_data",
          "data": {
            "text/plain": "<Figure size 640x480 with 1 Axes>",
            "image/png": "[encoded data removed]"
          },
          "metadata": {}
        }
      ],
      "execution_count": null
    },
    {
      "cell_type": "code",
      "source": [
        "y_train=to_categorical(y_train)\n",
        "y_test=to_categorical(y_test)"
      ],
      "metadata": {
        "trusted": true,
        "execution": {
          "iopub.status.busy": "2025-08-04T06:43:12.614249Z",
          "iopub.execute_input": "2025-08-04T06:43:12.614516Z",
          "iopub.status.idle": "2025-08-04T06:43:12.620463Z",
          "shell.execute_reply.started": "2025-08-04T06:43:12.614498Z",
          "shell.execute_reply": "2025-08-04T06:43:12.619822Z"
        },
        "id": "D7Kj0xLaYzCa"
      },
      "outputs": [],
      "execution_count": null
    },
    {
      "cell_type": "code",
      "source": [
        "y_test.shape"
      ],
      "metadata": {
        "trusted": true,
        "execution": {
          "iopub.status.busy": "2025-08-04T06:43:12.621008Z",
          "iopub.execute_input": "2025-08-04T06:43:12.621242Z",
          "iopub.status.idle": "2025-08-04T06:43:12.635424Z",
          "shell.execute_reply.started": "2025-08-04T06:43:12.621225Z",
          "shell.execute_reply": "2025-08-04T06:43:12.634739Z"
        },
        "id": "WQeGWsjeYzCa",
        "outputId": "1c843b76-eb68-4e0b-a351-6a708de4a8e7"
      },
      "outputs": [
        {
          "execution_count": 7,
          "output_type": "execute_result",
          "data": {
            "text/plain": "(10000, 10)"
          },
          "metadata": {}
        }
      ],
      "execution_count": null
    },
    {
      "cell_type": "code",
      "source": [
        "# Reshape and normalize\n",
        "reshaped_image = x_train[0].reshape(28, 28)\n",
        "\n",
        "plt.imshow(reshaped_image)\n",
        "plt.title(\"Reshaped to (28, 28, 1) and normalized\")\n",
        "plt.axis(\"off\")\n",
        "plt.show()\n"
      ],
      "metadata": {
        "trusted": true,
        "execution": {
          "iopub.status.busy": "2025-08-04T06:45:39.009377Z",
          "iopub.execute_input": "2025-08-04T06:45:39.010066Z",
          "iopub.status.idle": "2025-08-04T06:45:39.087747Z",
          "shell.execute_reply.started": "2025-08-04T06:45:39.010038Z",
          "shell.execute_reply": "2025-08-04T06:45:39.08706Z"
        },
        "id": "l6qmn6RyYzCa",
        "outputId": "54056b72-5f46-4cd4-8224-923f2af139d3"
      },
      "outputs": [
        {
          "output_type": "display_data",
          "data": {
            "text/plain": "<Figure size 640x480 with 1 Axes>",
            "image/png": "[encoded data removed]"
          },
          "metadata": {}
        }
      ],
      "execution_count": null
    },
    {
      "cell_type": "code",
      "source": [
        "import numpy as np\n",
        "\n",
        "plt.hist(x_train[0].reshape(-1), bins=30, color='skyblue')\n",
        "plt.title(\"Normalized pixel values distribution\")\n",
        "plt.xlabel(\"Intensity\")\n",
        "plt.ylabel(\"Frequency\")\n",
        "plt.show()\n"
      ],
      "metadata": {
        "trusted": true,
        "execution": {
          "iopub.status.busy": "2025-08-04T06:43:12.723463Z",
          "iopub.execute_input": "2025-08-04T06:43:12.723655Z",
          "iopub.status.idle": "2025-08-04T06:43:12.894939Z",
          "shell.execute_reply.started": "2025-08-04T06:43:12.723641Z",
          "shell.execute_reply": "2025-08-04T06:43:12.894349Z"
        },
        "id": "1Y8blyojYzCb",
        "outputId": "2899a054-9a0d-48be-ff79-ccc7923f80d4"
      },
      "outputs": [
        {
          "output_type": "display_data",
          "data": {
            "text/plain": "<Figure size 640x480 with 1 Axes>",
            "image/png": "[encoded data removed]"
          },
          "metadata": {}
        }
      ],
      "execution_count": null
    },
    {
      "cell_type": "code",
      "source": [
        "from tensorflow.keras.models import Sequential\n",
        "from tensorflow.keras.layers import Conv2D, MaxPooling2D, Flatten, Dense\n",
        "model=Sequential([\n",
        "    Conv2D(filters=36,kernel_size=(3,3),activation='relu',input_shape=(28,28,1)),\n",
        "    MaxPooling2D(2,2),\n",
        "\n",
        "    Conv2D(filters=64,kernel_size=(3,3),activation='relu'),\n",
        "    MaxPooling2D(2,2),\n",
        "    Flatten(),\n",
        "    Dense(128,activation='relu'),\n",
        "    Dense(256,activation=\"relu\"),\n",
        "    Dense(10,activation=\"softmax\")\n",
        "\n",
        "])"
      ],
      "metadata": {
        "trusted": true,
        "execution": {
          "iopub.status.busy": "2025-08-04T06:43:12.895641Z",
          "iopub.execute_input": "2025-08-04T06:43:12.895925Z",
          "iopub.status.idle": "2025-08-04T06:43:17.125326Z",
          "shell.execute_reply.started": "2025-08-04T06:43:12.895898Z",
          "shell.execute_reply": "2025-08-04T06:43:17.124766Z"
        },
        "id": "CI2aTRcjYzCb",
        "outputId": "34185952-9562-4f9d-dc54-687e9ee8a429"
      },
      "outputs": [
        {
          "name": "stderr",
          "text": "I0000 00:00:1754289795.395619      35 gpu_device.cc:2022] Created device /job:localhost/replica:0/task:0/device:GPU:0 with 13942 MB memory:  -> device: 0, name: Tesla T4, pci bus id: 0000:00:04.0, compute capability: 7.5\nI0000 00:00:1754289795.396402      35 gpu_device.cc:2022] Created device /job:localhost/replica:0/task:0/device:GPU:1 with 13942 MB memory:  -> device: 1, name: Tesla T4, pci bus id: 0000:00:05.0, compute capability: 7.5\n",
          "output_type": "stream"
        }
      ],
      "execution_count": null
    },
    {
      "cell_type": "code",
      "source": [
        "early_stop=EarlyStopping(monitor='val_loss',\n",
        "                        patience=10,\n",
        "                        restore_best_weights=True)"
      ],
      "metadata": {
        "trusted": true,
        "execution": {
          "iopub.status.busy": "2025-08-04T06:43:17.12603Z",
          "iopub.execute_input": "2025-08-04T06:43:17.126296Z",
          "iopub.status.idle": "2025-08-04T06:43:17.130322Z",
          "shell.execute_reply.started": "2025-08-04T06:43:17.126272Z",
          "shell.execute_reply": "2025-08-04T06:43:17.129586Z"
        },
        "id": "1f1HxuuAYzCc"
      },
      "outputs": [],
      "execution_count": null
    },
    {
      "cell_type": "code",
      "source": [
        "model.compile(optimizer='adam',loss=\"categorical_crossentropy\",metrics=['accuracy'])\n",
        "model.fit(x_train,y_train,epochs=100,batch_size=64,callbacks=[early_stop],validation_split=0.1)"
      ],
      "metadata": {
        "trusted": true,
        "execution": {
          "iopub.status.busy": "2025-08-04T06:43:17.13095Z",
          "iopub.execute_input": "2025-08-04T06:43:17.131212Z",
          "iopub.status.idle": "2025-08-04T06:44:16.624195Z",
          "shell.execute_reply.started": "2025-08-04T06:43:17.131195Z",
          "shell.execute_reply": "2025-08-04T06:44:16.623458Z"
        },
        "id": "t_UEu7lEYzCc",
        "outputId": "6d16ef43-cbe7-4168-bbbd-764716468ec7"
      },
      "outputs": [
        {
          "name": "stdout",
          "text": "Epoch 1/100\n",
          "output_type": "stream"
        },
        {
          "name": "stderr",
          "text": "WARNING: All log messages before absl::InitializeLog() is called are written to STDERR\nI0000 00:00:1754289799.978309      96 service.cc:148] XLA service 0x7828e4003040 initialized for platform CUDA (this does not guarantee that XLA will be used). Devices:\nI0000 00:00:1754289799.979801      96 service.cc:156]   StreamExecutor device (0): Tesla T4, Compute Capability 7.5\nI0000 00:00:1754289799.979818      96 service.cc:156]   StreamExecutor device (1): Tesla T4, Compute Capability 7.5\nI0000 00:00:1754289800.340537      96 cuda_dnn.cc:529] Loaded cuDNN version 90300\n",
          "output_type": "stream"
        },
        {
          "name": "stdout",
          "text": "\u001b[1m 56/844\u001b[0m \u001b[32m━\u001b[0m\u001b[37m━━━━━━━━━━━━━━━━━━━\u001b[0m \u001b[1m2s\u001b[0m 3ms/step - accuracy: 0.4928 - loss: 1.5421",
          "output_type": "stream"
        },
        {
          "name": "stderr",
          "text": "I0000 00:00:1754289803.642357      96 device_compiler.h:188] Compiled cluster using XLA!  This line is logged at most once for the lifetime of the process.\n",
          "output_type": "stream"
        },
        {
          "name": "stdout",
          "text": "\u001b[1m844/844\u001b[0m \u001b[32m━━━━━━━━━━━━━━━━━━━━\u001b[0m\u001b[37m\u001b[0m \u001b[1m11s\u001b[0m 6ms/step - accuracy: 0.8725 - loss: 0.4001 - val_accuracy: 0.9845 - val_loss: 0.0521\nEpoch 2/100\n\u001b[1m844/844\u001b[0m \u001b[32m━━━━━━━━━━━━━━━━━━━━\u001b[0m\u001b[37m\u001b[0m \u001b[1m3s\u001b[0m 3ms/step - accuracy: 0.9830 - loss: 0.0536 - val_accuracy: 0.9887 - val_loss: 0.0381\nEpoch 3/100\n\u001b[1m844/844\u001b[0m \u001b[32m━━━━━━━━━━━━━━━━━━━━\u001b[0m\u001b[37m\u001b[0m \u001b[1m3s\u001b[0m 3ms/step - accuracy: 0.9887 - loss: 0.0350 - val_accuracy: 0.9868 - val_loss: 0.0465\nEpoch 4/100\n\u001b[1m844/844\u001b[0m \u001b[32m━━━━━━━━━━━━━━━━━━━━\u001b[0m\u001b[37m\u001b[0m \u001b[1m3s\u001b[0m 3ms/step - accuracy: 0.9921 - loss: 0.0250 - val_accuracy: 0.9878 - val_loss: 0.0433\nEpoch 5/100\n\u001b[1m844/844\u001b[0m \u001b[32m━━━━━━━━━━━━━━━━━━━━\u001b[0m\u001b[37m\u001b[0m \u001b[1m3s\u001b[0m 3ms/step - accuracy: 0.9939 - loss: 0.0180 - val_accuracy: 0.9907 - val_loss: 0.0362\nEpoch 6/100\n\u001b[1m844/844\u001b[0m \u001b[32m━━━━━━━━━━━━━━━━━━━━\u001b[0m\u001b[37m\u001b[0m \u001b[1m3s\u001b[0m 3ms/step - accuracy: 0.9946 - loss: 0.0158 - val_accuracy: 0.9895 - val_loss: 0.0425\nEpoch 7/100\n\u001b[1m844/844\u001b[0m \u001b[32m━━━━━━━━━━━━━━━━━━━━\u001b[0m\u001b[37m\u001b[0m \u001b[1m3s\u001b[0m 3ms/step - accuracy: 0.9962 - loss: 0.0113 - val_accuracy: 0.9920 - val_loss: 0.0346\nEpoch 8/100\n\u001b[1m844/844\u001b[0m \u001b[32m━━━━━━━━━━━━━━━━━━━━\u001b[0m\u001b[37m\u001b[0m \u001b[1m3s\u001b[0m 3ms/step - accuracy: 0.9967 - loss: 0.0092 - val_accuracy: 0.9918 - val_loss: 0.0344\nEpoch 9/100\n\u001b[1m844/844\u001b[0m \u001b[32m━━━━━━━━━━━━━━━━━━━━\u001b[0m\u001b[37m\u001b[0m \u001b[1m3s\u001b[0m 3ms/step - accuracy: 0.9968 - loss: 0.0097 - val_accuracy: 0.9922 - val_loss: 0.0354\nEpoch 10/100\n\u001b[1m844/844\u001b[0m \u001b[32m━━━━━━━━━━━━━━━━━━━━\u001b[0m\u001b[37m\u001b[0m \u001b[1m3s\u001b[0m 3ms/step - accuracy: 0.9966 - loss: 0.0088 - val_accuracy: 0.9900 - val_loss: 0.0498\nEpoch 11/100\n\u001b[1m844/844\u001b[0m \u001b[32m━━━━━━━━━━━━━━━━━━━━\u001b[0m\u001b[37m\u001b[0m \u001b[1m3s\u001b[0m 3ms/step - accuracy: 0.9979 - loss: 0.0065 - val_accuracy: 0.9908 - val_loss: 0.0447\nEpoch 12/100\n\u001b[1m844/844\u001b[0m \u001b[32m━━━━━━━━━━━━━━━━━━━━\u001b[0m\u001b[37m\u001b[0m \u001b[1m3s\u001b[0m 3ms/step - accuracy: 0.9978 - loss: 0.0071 - val_accuracy: 0.9925 - val_loss: 0.0437\nEpoch 13/100\n\u001b[1m844/844\u001b[0m \u001b[32m━━━━━━━━━━━━━━━━━━━━\u001b[0m\u001b[37m\u001b[0m \u001b[1m3s\u001b[0m 3ms/step - accuracy: 0.9984 - loss: 0.0046 - val_accuracy: 0.9927 - val_loss: 0.0387\nEpoch 14/100\n\u001b[1m844/844\u001b[0m \u001b[32m━━━━━━━━━━━━━━━━━━━━\u001b[0m\u001b[37m\u001b[0m \u001b[1m3s\u001b[0m 3ms/step - accuracy: 0.9989 - loss: 0.0034 - val_accuracy: 0.9918 - val_loss: 0.0461\nEpoch 15/100\n\u001b[1m844/844\u001b[0m \u001b[32m━━━━━━━━━━━━━━━━━━━━\u001b[0m\u001b[37m\u001b[0m \u001b[1m3s\u001b[0m 3ms/step - accuracy: 0.9984 - loss: 0.0052 - val_accuracy: 0.9898 - val_loss: 0.0514\nEpoch 16/100\n\u001b[1m844/844\u001b[0m \u001b[32m━━━━━━━━━━━━━━━━━━━━\u001b[0m\u001b[37m\u001b[0m \u001b[1m3s\u001b[0m 3ms/step - accuracy: 0.9980 - loss: 0.0062 - val_accuracy: 0.9907 - val_loss: 0.0493\nEpoch 17/100\n\u001b[1m844/844\u001b[0m \u001b[32m━━━━━━━━━━━━━━━━━━━━\u001b[0m\u001b[37m\u001b[0m \u001b[1m3s\u001b[0m 3ms/step - accuracy: 0.9989 - loss: 0.0043 - val_accuracy: 0.9920 - val_loss: 0.0476\nEpoch 18/100\n\u001b[1m844/844\u001b[0m \u001b[32m━━━━━━━━━━━━━━━━━━━━\u001b[0m\u001b[37m\u001b[0m \u001b[1m3s\u001b[0m 3ms/step - accuracy: 0.9994 - loss: 0.0018 - val_accuracy: 0.9907 - val_loss: 0.0495\n",
          "output_type": "stream"
        },
        {
          "execution_count": 12,
          "output_type": "execute_result",
          "data": {
            "text/plain": "<keras.src.callbacks.history.History at 0x782a040f5dd0>"
          },
          "metadata": {}
        }
      ],
      "execution_count": null
    },
    {
      "cell_type": "code",
      "source": [
        "test_loss,test_accuracy=model.evaluate(x_test,y_test)\n",
        "print(f\"test loss{test_loss}\")\n",
        "print(f\"test accuracy{test_accuracy:.4f}\")"
      ],
      "metadata": {
        "trusted": true,
        "execution": {
          "iopub.status.busy": "2025-08-04T06:44:16.625055Z",
          "iopub.execute_input": "2025-08-04T06:44:16.625399Z",
          "iopub.status.idle": "2025-08-04T06:44:18.373456Z",
          "shell.execute_reply.started": "2025-08-04T06:44:16.625374Z",
          "shell.execute_reply": "2025-08-04T06:44:18.372824Z"
        },
        "id": "41Do5hVsYzCc",
        "outputId": "dcb5cfa7-d4e7-4fc0-a39c-73959cbe7eaa"
      },
      "outputs": [
        {
          "name": "stdout",
          "text": "\u001b[1m313/313\u001b[0m \u001b[32m━━━━━━━━━━━━━━━━━━━━\u001b[0m\u001b[37m\u001b[0m \u001b[1m2s\u001b[0m 4ms/step - accuracy: 0.9866 - loss: 0.0425\ntest loss0.03463955596089363\ntest accuracy0.9900\n",
          "output_type": "stream"
        }
      ],
      "execution_count": null
    },
    {
      "cell_type": "code",
      "source": [
        "import matplotlib.pyplot as plt\n",
        "import numpy as np\n",
        "\n",
        "# Predict and visualize one sample\n",
        "sample_index = 11\n",
        "sample_image = x_test[sample_index].reshape(28, 28)\n",
        "predicted_label = np.argmax(model.predict(x_test[sample_index].reshape(1, 28, 28, 1)))\n",
        "\n",
        "plt.imshow(sample_image, cmap=\"gray\")\n",
        "plt.title(f\"Predicted digit: {predicted_label}\")\n",
        "plt.axis(\"off\")\n",
        "plt.show()\n"
      ],
      "metadata": {
        "trusted": true,
        "execution": {
          "iopub.status.busy": "2025-08-04T06:44:18.37428Z",
          "iopub.execute_input": "2025-08-04T06:44:18.374499Z",
          "iopub.status.idle": "2025-08-04T06:44:18.98256Z",
          "shell.execute_reply.started": "2025-08-04T06:44:18.374483Z",
          "shell.execute_reply": "2025-08-04T06:44:18.98174Z"
        },
        "id": "0rs28uVFYzCc",
        "outputId": "f9f08b81-ff14-4ae8-a4ca-ea2e1b363734"
      },
      "outputs": [
        {
          "name": "stdout",
          "text": "\u001b[1m1/1\u001b[0m \u001b[32m━━━━━━━━━━━━━━━━━━━━\u001b[0m\u001b[37m\u001b[0m \u001b[1m0s\u001b[0m 489ms/step\n",
          "output_type": "stream"
        },
        {
          "output_type": "display_data",
          "data": {
            "text/plain": "<Figure size 640x480 with 1 Axes>",
            "image/png": "[encoded data removed]"
          },
          "metadata": {}
        }
      ],
      "execution_count": null
    },
    {
      "cell_type": "code",
      "source": [],
      "metadata": {
        "trusted": true,
        "id": "LGQGNFxsYzCd"
      },
      "outputs": [],
      "execution_count": null
    }
  ]
}