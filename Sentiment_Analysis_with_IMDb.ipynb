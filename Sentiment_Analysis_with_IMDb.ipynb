{
  "nbformat": 4,
  "nbformat_minor": 0,
  "metadata": {
    "colab": {
      "provenance": [],
      "gpuType": "T4",
      "authorship_tag": "ABX9TyMHP7KLdYVYTy5o4/HTQLQf",
      "include_colab_link": true
    },
    "kernelspec": {
      "name": "python3",
      "display_name": "Python 3"
    },
    "language_info": {
      "name": "python"
    },
    "accelerator": "GPU"
  },
  "cells": [
    {
      "cell_type": "markdown",
      "metadata": {
        "id": "view-in-github",
        "colab_type": "text"
      },
      "source": [
        "<a href=\"https://colab.research.google.com/github/Harshkotkar/Deep-Learning/blob/main/Sentiment_Analysis_with_IMDb.ipynb\" target=\"_parent\"><img src=\"https://colab.research.google.com/assets/colab-badge.svg\" alt=\"Open In Colab\"/></a>"
      ]
    },
    {
      "cell_type": "markdown",
      "source": [
        "### The IMDB dataset contains 50,000 movie reviews labeled as either positive or negative. It’s balanced (25k each), preprocessed (no HTML tags), and split into training and test sets—ideal for binary sentiment classification."
      ],
      "metadata": {
        "id": "iQLi3U5ycDmS"
      }
    },
    {
      "cell_type": "code",
      "source": [
        "from keras.datasets import imdb\n",
        "import pandas as pd\n",
        "import matplotlib.pyplot as plt\n",
        "import numpy as np\n",
        "from keras.layers import LSTM\n",
        "import tensorflow as tf\n",
        "from keras.models import Sequential\n",
        "from keras.layers import Embedding, Dense"
      ],
      "metadata": {
        "id": "PxvddCBkXG47"
      },
      "execution_count": null,
      "outputs": []
    },
    {
      "cell_type": "code",
      "source": [
        "(x_train,y_train),(x_test,y_test)=imdb.load_data(num_words=10000)"
      ],
      "metadata": {
        "id": "0aJ9BQtWciCY",
        "colab": {
          "base_uri": "https://localhost:8080/"
        },
        "outputId": "01e310d2-be8b-407c-a598-19dc126269ff"
      },
      "execution_count": null,
      "outputs": [
        {
          "output_type": "stream",
          "name": "stdout",
          "text": [
            "Downloading data from https://storage.googleapis.com/tensorflow/tf-keras-datasets/imdb.npz\n",
            "\u001b[1m17464789/17464789\u001b[0m \u001b[32m━━━━━━━━━━━━━━━━━━━━\u001b[0m\u001b[37m\u001b[0m \u001b[1m0s\u001b[0m 0us/step\n"
          ]
        }
      ]
    },
    {
      "cell_type": "markdown",
      "source": [
        "\n",
        "i - 3\n",
        "Keras reserves the first few indices:\n",
        "\n",
        "0: padding\n",
        "\n",
        "1: start of sequence\n",
        "\n",
        "2: unknown (OOV)\n",
        "\n",
        "So actual word indices start from 3 onward.\n"
      ],
      "metadata": {
        "id": "mofH9hY2E6m-"
      }
    },
    {
      "cell_type": "code",
      "source": [
        "word_index = imdb.get_word_index()\n",
        "reverse_index = {value: key for key, value in word_index.items()}\n",
        "decoded_review = ' '.join([reverse_index.get(i - 3, '?') for i in x_train[0]])\n"
      ],
      "metadata": {
        "id": "Fv3rGw3t3g7o"
      },
      "execution_count": null,
      "outputs": []
    },
    {
      "cell_type": "code",
      "source": [
        "\n",
        "model = Sequential([\n",
        "    Embedding(10000, 128, input_length=500),\n",
        "    LSTM(64),\n",
        "    Dense(1, activation='sigmoid')\n",
        "])\n"
      ],
      "metadata": {
        "colab": {
          "base_uri": "https://localhost:8080/"
        },
        "id": "4bBFlAl3EPHS",
        "outputId": "6a8304af-f1b2-444a-bcbd-8ef0a20e81b9"
      },
      "execution_count": null,
      "outputs": [
        {
          "output_type": "stream",
          "name": "stderr",
          "text": [
            "/usr/local/lib/python3.12/dist-packages/keras/src/layers/core/embedding.py:97: UserWarning: Argument `input_length` is deprecated. Just remove it.\n",
            "  warnings.warn(\n"
          ]
        }
      ]
    },
    {
      "cell_type": "code",
      "source": [],
      "metadata": {
        "id": "zyAt-k6qFIUJ"
      },
      "execution_count": null,
      "outputs": []
    }
  ]
}