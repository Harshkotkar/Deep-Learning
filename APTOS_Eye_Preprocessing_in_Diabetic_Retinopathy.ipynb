{
  "metadata": {
    "kernelspec": {
      "display_name": "Python 3",
      "name": "python3"
    },
    "language_info": {
      "name": "python",
      "version": "3.11.13",
      "mimetype": "text/x-python",
      "codemirror_mode": {
        "name": "ipython",
        "version": 3
      },
      "pygments_lexer": "ipython3",
      "nbconvert_exporter": "python",
      "file_extension": ".py"
    },
    "kaggle": {
      "accelerator": "none",
      "dataSources": [
        {
          "sourceId": 14774,
          "databundleVersionId": 875431,
          "sourceType": "competition"
        }
      ],
      "dockerImageVersionId": 31089,
      "isInternetEnabled": true,
      "language": "python",
      "sourceType": "notebook",
      "isGpuEnabled": false
    },
    "colab": {
      "provenance": [],
      "gpuType": "T4",
      "include_colab_link": true
    },
    "accelerator": "GPU"
  },
  "nbformat_minor": 0,
  "nbformat": 4,
  "cells": [
    {
      "cell_type": "markdown",
      "metadata": {
        "id": "view-in-github",
        "colab_type": "text"
      },
      "source": [
        "<a href=\"https://colab.research.google.com/github/Harshkotkar/Deep-Learning/blob/main/APTOS_Eye_Preprocessing_in_Diabetic_Retinopathy.ipynb\" target=\"_parent\"><img src=\"https://colab.research.google.com/assets/colab-badge.svg\" alt=\"Open In Colab\"/></a>"
      ]
    },
    {
      "source": [
        "# # IMPORTANT: SOME KAGGLE DATA SOURCES ARE PRIVATE\n",
        "# # RUN THIS CELL IN ORDER TO IMPORT YOUR KAGGLE DATA SOURCES.\n",
        "# import kagglehub\n",
        "# kagglehub.login()\n"
      ],
      "metadata": {
        "id": "-tvpMg4FA_wF"
      },
      "cell_type": "code",
      "outputs": [],
      "execution_count": 20
    },
    {
      "source": [
        "# IMPORTANT: RUN THIS CELL IN ORDER TO IMPORT YOUR KAGGLE DATA SOURCES,\n",
        "# THEN FEEL FREE TO DELETE THIS CELL.\n",
        "# NOTE: THIS NOTEBOOK ENVIRONMENT DIFFERS FROM KAGGLE'S PYTHON\n",
        "# ENVIRONMENT SO THERE MAY BE MISSING LIBRARIES USED BY YOUR\n",
        "# NOTEBOOK.\n",
        "\n",
        "aptos2019_blindness_detection_path = kagglehub.competition_download('aptos2019-blindness-detection')\n",
        "\n",
        "print('Data source import complete.')\n"
      ],
      "metadata": {
        "id": "pdraKDaUA_wJ",
        "colab": {
          "base_uri": "https://localhost:8080/"
        },
        "outputId": "90bab317-4a34-4af2-aa29-ef62162f7deb"
      },
      "cell_type": "code",
      "outputs": [
        {
          "output_type": "stream",
          "name": "stdout",
          "text": [
            "Data source import complete.\n"
          ]
        }
      ],
      "execution_count": 16
    },
    {
      "cell_type": "code",
      "source": [
        "# This Python 3 environment comes with many helpful analytics libraries installed\n",
        "# It is defined by the kaggle/python Docker image: https://github.com/kaggle/docker-python\n",
        "# For example, here's several helpful packages to load\n",
        "\n",
        "import numpy as np # linear algebra\n",
        "import pandas as pd # data processing, CSV file I/O (e.g. pd.read_csv)\n",
        "\n",
        "# Input data files are available in the read-only \"../input/\" directory\n",
        "# For example, running this (by clicking run or pressing Shift+Enter) will list all files under the input directory\n",
        "\n",
        "import os\n",
        "for dirname, _, filenames in os.walk('/kaggle/input'):\n",
        "    for filename in filenames:\n",
        "        print(os.path.join(dirname, filename))\n",
        "\n",
        "# You can write up to 20GB to the current directory (/kaggle/working/) that gets preserved as output when you create a version using \"Save & Run All\"\n",
        "# You can also write temporary files to /kaggle/temp/, but they won't be saved outside of the current session"
      ],
      "metadata": {
        "_uuid": "8f2839f25d086af736a60e9eeb907d3b93b6e0e5",
        "_cell_guid": "b1076dfc-b9ad-4769-8c92-a6c4dae69d19",
        "trusted": true,
        "execution": {
          "iopub.status.busy": "2025-08-23T17:36:35.060647Z",
          "iopub.execute_input": "2025-08-23T17:36:35.060857Z",
          "iopub.status.idle": "2025-08-23T17:36:45.258068Z",
          "shell.execute_reply.started": "2025-08-23T17:36:35.060838Z",
          "shell.execute_reply": "2025-08-23T17:36:45.25707Z"
        },
        "id": "vzckUeffA_wK"
      },
      "outputs": [],
      "execution_count": null
    },
    {
      "cell_type": "code",
      "source": [
        "import os\n",
        "\n",
        "print(aptos2019_blindness_detection_path)  # This shows the base folder\n",
        "print(os.listdir(aptos2019_blindness_detection_path))  # List what’s inside\n"
      ],
      "metadata": {
        "colab": {
          "base_uri": "https://localhost:8080/"
        },
        "id": "sPByTQ9dE9Fr",
        "outputId": "3b691f6b-810f-4f97-d42b-0bc9cf970e87"
      },
      "execution_count": 17,
      "outputs": [
        {
          "output_type": "stream",
          "name": "stdout",
          "text": [
            "/root/.cache/kagglehub/competitions/aptos2019-blindness-detection\n",
            "['train_images', 'train.csv', 'test.csv', 'test_images', 'sample_submission.csv']\n"
          ]
        }
      ]
    },
    {
      "cell_type": "code",
      "source": [
        "import os\n",
        "import pandas as pd\n",
        "\n",
        "# Base dataset path\n",
        "base_path = \"/root/.cache/kagglehub/competitions/aptos2019-blindness-detection\"\n",
        "\n",
        "# Load CSVs\n",
        "train_df = pd.read_csv(os.path.join(base_path, \"train.csv\"))\n",
        "test_df = pd.read_csv(os.path.join(base_path, \"test.csv\"))\n",
        "\n",
        "print(train_df.head())\n",
        "print(test_df.head())\n"
      ],
      "metadata": {
        "id": "2xrqPNVhJtd7",
        "colab": {
          "base_uri": "https://localhost:8080/"
        },
        "outputId": "832a197f-c6ed-4c13-a74b-c5658e7c35f2"
      },
      "execution_count": 18,
      "outputs": [
        {
          "output_type": "stream",
          "name": "stdout",
          "text": [
            "        id_code  diagnosis\n",
            "0  000c1434d8d7          2\n",
            "1  001639a390f0          4\n",
            "2  0024cdab0c1e          1\n",
            "3  002c21358ce6          0\n",
            "4  005b95c28852          0\n",
            "        id_code\n",
            "0  0005cfc8afb6\n",
            "1  003f0afdcd15\n",
            "2  006efc72b638\n",
            "3  00836aaacf06\n",
            "4  009245722fa4\n"
          ]
        }
      ]
    },
    {
      "cell_type": "code",
      "source": [
        "train_images_path = os.path.join(base_path, \"train_images\")\n",
        "test_images_path  = os.path.join(base_path, \"test_images\")\n"
      ],
      "metadata": {
        "id": "W8Vm5OlhFN8o"
      },
      "execution_count": 19,
      "outputs": []
    },
    {
      "cell_type": "markdown",
      "source": [
        "###Why tf.data? Efficient handling of large image datasets → parallelism + prefetching.\n",
        "\n",
        "Why resize to (224×224)? Most pretrained CNN backbones (ResNet, EfficientNet, Inception) expect 224×224 inputs. Keeping consistency allows us to later plug in pretrained models easily.\n",
        "\n",
        "Why normalize (0–1)? Neural nets converge faster when input values are small and consistent. Images originally have pixel values 0–255; dividing by 255 standardizes them. New section"
      ],
      "metadata": {
        "id": "upocOVtKOlOb"
      }
    },
    {
      "cell_type": "code",
      "source": [
        "import tensorflow as tf\n",
        "import os\n",
        "\n",
        "train_imgs = \"/root/.cache/kagglehub/competitions/aptos2019-blindness-detection/train_images\"\n",
        "\n",
        "IMG_SIZE = 224\n",
        "BATCH_SIZE = 32\n",
        "\n",
        "def load_image(img_id, label):\n",
        "    # Create image path using tf.strings.join\n",
        "    img_path = tf.strings.join([train_imgs, \"/\", img_id, \".png\"])\n",
        "\n",
        "    # Read image file\n",
        "    img = tf.io.read_file(img_path)\n",
        "    img = tf.image.decode_png(img, channels=3)\n",
        "    img = tf.image.resize(img, [IMG_SIZE, IMG_SIZE])\n",
        "    img = img / 255.0  # normalize\n",
        "\n",
        "    return img, label\n",
        "\n",
        "# Convert dataset\n",
        "train_ds = tf.data.Dataset.from_tensor_slices((train_df['id_code'].values,\n",
        "                                               train_df['diagnosis'].values))\n",
        "train_ds = train_ds.map(load_image, num_parallel_calls=tf.data.AUTOTUNE)\n",
        "train_ds = train_ds.shuffle(1024).batch(BATCH_SIZE).prefetch(tf.data.AUTOTUNE)\n"
      ],
      "metadata": {
        "id": "hheluJqTJK1A"
      },
      "execution_count": 23,
      "outputs": []
    },
    {
      "cell_type": "markdown",
      "source": [
        "### Train Test Split"
      ],
      "metadata": {
        "id": "IUzo7u2RPDCx"
      }
    },
    {
      "cell_type": "markdown",
      "source": [
        "##why do we not do the X_train ,Y_train, that one split?\n",
        "### Our Case (APTOS Dataset)\n",
        "\n",
        "Our dataframe looks like this:\n",
        "\n",
        "id_code         \tdiagnosis\n",
        "000c1434d8d7\t       2\n",
        "001639a390f0\t       4\n",
        "0024cdab0c1e\t       1\n",
        "id_code → not really a feature, it’s just the filename of the image.\n",
        "\n",
        "diagnosis → the label (0–4).\n",
        "\n",
        "\n",
        "##In this dataset, the dataframe doesn’t directly contain the features (images).\n",
        "\n",
        "##Instead, it maps id_code (filename) → diagnosis (label).\n",
        "\n",
        "##We split the dataframe rows while keeping both columns, then later load the actual images using those filenames."
      ],
      "metadata": {
        "id": "ouyEcGfARj9m"
      }
    },
    {
      "cell_type": "markdown",
      "source": [
        "###Why stratify?\n",
        "Because the dataset is imbalanced (some disease classes are rarer). stratify ensures both train and validation have similar class distributions."
      ],
      "metadata": {
        "id": "8_yM2PwMPd48"
      }
    },
    {
      "cell_type": "code",
      "source": [
        "from sklearn.model_selection import train_test_split\n",
        "\n",
        "# Train-validation split\n",
        "train_df, val_df = train_test_split(train_df, test_size=0.2, stratify=train_df['diagnosis'], random_state=42)\n",
        "\n",
        "print(\"Training samples:\", len(train_df))\n",
        "print(\"Validation samples:\", len(val_df))\n"
      ],
      "metadata": {
        "id": "ZgsOhhL0JXL6",
        "colab": {
          "base_uri": "https://localhost:8080/"
        },
        "outputId": "f233b779-aad5-449e-c9f2-eeb89ec59cdc"
      },
      "execution_count": 24,
      "outputs": [
        {
          "output_type": "stream",
          "name": "stdout",
          "text": [
            "Training samples: 2929\n",
            "Validation samples: 733\n"
          ]
        }
      ]
    },
    {
      "cell_type": "code",
      "source": [
        "from tensorflow.keras import layers, models\n",
        "\n",
        "# Simple CNN Model\n",
        "\n",
        "model = models.Sequential([\n",
        "        layers.Conv2D(32, (3,3), activation='relu', input_shape=(224,224,5)),\n",
        "        layers.MaxPooling2D((2,2)),\n",
        "\n",
        "        layers.Conv2D(64, (3,3), activation='relu'),\n",
        "        layers.MaxPooling2D((2,2)),\n",
        "\n",
        "        layers.Conv2D(128, (3,3), activation='relu'),\n",
        "        layers.MaxPooling2D((2,2)),\n",
        "\n",
        "        layers.Flatten(),\n",
        "        layers.Dense(128, activation='relu'),\n",
        "        layers.Dropout(0.5),\n",
        "        layers.Dense(5, activation='softmax')\n",
        "])\n",
        "\n"
      ],
      "metadata": {
        "colab": {
          "base_uri": "https://localhost:8080/"
        },
        "id": "hLfXMJFBPLRQ",
        "outputId": "1348f16b-6dee-4b7b-a28d-1361f4705e47"
      },
      "execution_count": 26,
      "outputs": [
        {
          "output_type": "stream",
          "name": "stderr",
          "text": [
            "/usr/local/lib/python3.12/dist-packages/keras/src/layers/convolutional/base_conv.py:113: UserWarning: Do not pass an `input_shape`/`input_dim` argument to a layer. When using Sequential models, prefer using an `Input(shape)` object as the first layer in the model instead.\n",
            "  super().__init__(activity_regularizer=activity_regularizer, **kwargs)\n"
          ]
        }
      ]
    },
    {
      "cell_type": "code",
      "source": [],
      "metadata": {
        "id": "FKcCfeXkXHfP"
      },
      "execution_count": null,
      "outputs": []
    }
  ]
}