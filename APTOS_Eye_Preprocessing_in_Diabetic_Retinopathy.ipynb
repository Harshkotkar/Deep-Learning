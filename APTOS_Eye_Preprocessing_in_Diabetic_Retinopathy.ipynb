{
  "metadata": {
    "kernelspec": {
      "display_name": "Python 3",
      "name": "python3"
    },
    "language_info": {
      "name": "python",
      "version": "3.11.13",
      "mimetype": "text/x-python",
      "codemirror_mode": {
        "name": "ipython",
        "version": 3
      },
      "pygments_lexer": "ipython3",
      "nbconvert_exporter": "python",
      "file_extension": ".py"
    },
    "kaggle": {
      "accelerator": "none",
      "dataSources": [
        {
          "sourceId": 14774,
          "databundleVersionId": 875431,
          "sourceType": "competition"
        }
      ],
      "dockerImageVersionId": 31089,
      "isInternetEnabled": true,
      "language": "python",
      "sourceType": "notebook",
      "isGpuEnabled": false
    },
    "colab": {
      "provenance": [],
      "gpuType": "T4",
      "include_colab_link": true
    },
    "accelerator": "GPU"
  },
  "nbformat_minor": 0,
  "nbformat": 4,
  "cells": [
    {
      "cell_type": "markdown",
      "metadata": {
        "id": "view-in-github",
        "colab_type": "text"
      },
      "source": [
        "<a href=\"https://colab.research.google.com/github/Harshkotkar/Deep-Learning/blob/main/APTOS_Eye_Preprocessing_in_Diabetic_Retinopathy.ipynb\" target=\"_parent\"><img src=\"https://colab.research.google.com/assets/colab-badge.svg\" alt=\"Open In Colab\"/></a>"
      ]
    },
    {
      "source": [
        "# # IMPORTANT: SOME KAGGLE DATA SOURCES ARE PRIVATE\n",
        "# # RUN THIS CELL IN ORDER TO IMPORT YOUR KAGGLE DATA SOURCES.\n",
        "# import kagglehub\n",
        "# kagglehub.login()\n"
      ],
      "metadata": {
        "id": "-tvpMg4FA_wF"
      },
      "cell_type": "code",
      "outputs": [],
      "execution_count": 20
    },
    {
      "source": [
        "# IMPORTANT: RUN THIS CELL IN ORDER TO IMPORT YOUR KAGGLE DATA SOURCES,\n",
        "# THEN FEEL FREE TO DELETE THIS CELL.\n",
        "# NOTE: THIS NOTEBOOK ENVIRONMENT DIFFERS FROM KAGGLE'S PYTHON\n",
        "# ENVIRONMENT SO THERE MAY BE MISSING LIBRARIES USED BY YOUR\n",
        "# NOTEBOOK.\n",
        "\n",
        "aptos2019_blindness_detection_path = kagglehub.competition_download('aptos2019-blindness-detection')\n",
        "\n",
        "print('Data source import complete.')\n"
      ],
      "metadata": {
        "id": "pdraKDaUA_wJ",
        "colab": {
          "base_uri": "https://localhost:8080/"
        },
        "outputId": "90bab317-4a34-4af2-aa29-ef62162f7deb"
      },
      "cell_type": "code",
      "outputs": [
        {
          "output_type": "stream",
          "name": "stdout",
          "text": [
            "Data source import complete.\n"
          ]
        }
      ],
      "execution_count": 16
    },
    {
      "cell_type": "code",
      "source": [
        "# This Python 3 environment comes with many helpful analytics libraries installed\n",
        "# It is defined by the kaggle/python Docker image: https://github.com/kaggle/docker-python\n",
        "# For example, here's several helpful packages to load\n",
        "\n",
        "import numpy as np # linear algebra\n",
        "import pandas as pd # data processing, CSV file I/O (e.g. pd.read_csv)\n",
        "\n",
        "# Input data files are available in the read-only \"../input/\" directory\n",
        "# For example, running this (by clicking run or pressing Shift+Enter) will list all files under the input directory\n",
        "\n",
        "import os\n",
        "for dirname, _, filenames in os.walk('/kaggle/input'):\n",
        "    for filename in filenames:\n",
        "        print(os.path.join(dirname, filename))\n",
        "\n",
        "# You can write up to 20GB to the current directory (/kaggle/working/) that gets preserved as output when you create a version using \"Save & Run All\"\n",
        "# You can also write temporary files to /kaggle/temp/, but they won't be saved outside of the current session"
      ],
      "metadata": {
        "_uuid": "8f2839f25d086af736a60e9eeb907d3b93b6e0e5",
        "_cell_guid": "b1076dfc-b9ad-4769-8c92-a6c4dae69d19",
        "trusted": true,
        "execution": {
          "iopub.status.busy": "2025-08-23T17:36:35.060647Z",
          "iopub.execute_input": "2025-08-23T17:36:35.060857Z",
          "iopub.status.idle": "2025-08-23T17:36:45.258068Z",
          "shell.execute_reply.started": "2025-08-23T17:36:35.060838Z",
          "shell.execute_reply": "2025-08-23T17:36:45.25707Z"
        },
        "id": "vzckUeffA_wK"
      },
      "outputs": [],
      "execution_count": null
    },
    {
      "cell_type": "code",
      "source": [
        "import os\n",
        "\n",
        "print(aptos2019_blindness_detection_path)  # This shows the base folder\n",
        "print(os.listdir(aptos2019_blindness_detection_path))  # List what’s inside\n"
      ],
      "metadata": {
        "colab": {
          "base_uri": "https://localhost:8080/"
        },
        "id": "sPByTQ9dE9Fr",
        "outputId": "3b691f6b-810f-4f97-d42b-0bc9cf970e87"
      },
      "execution_count": 17,
      "outputs": [
        {
          "output_type": "stream",
          "name": "stdout",
          "text": [
            "/root/.cache/kagglehub/competitions/aptos2019-blindness-detection\n",
            "['train_images', 'train.csv', 'test.csv', 'test_images', 'sample_submission.csv']\n"
          ]
        }
      ]
    },
    {
      "cell_type": "code",
      "source": [
        "import os\n",
        "import pandas as pd\n",
        "\n",
        "# Base dataset path\n",
        "base_path = \"/root/.cache/kagglehub/competitions/aptos2019-blindness-detection\"\n",
        "\n",
        "# Load CSVs\n",
        "train_df = pd.read_csv(os.path.join(base_path, \"train.csv\"))\n",
        "test_df = pd.read_csv(os.path.join(base_path, \"test.csv\"))\n",
        "\n",
        "print(train_df.head())\n",
        "print(test_df.head())\n"
      ],
      "metadata": {
        "id": "2xrqPNVhJtd7",
        "colab": {
          "base_uri": "https://localhost:8080/"
        },
        "outputId": "832a197f-c6ed-4c13-a74b-c5658e7c35f2"
      },
      "execution_count": 18,
      "outputs": [
        {
          "output_type": "stream",
          "name": "stdout",
          "text": [
            "        id_code  diagnosis\n",
            "0  000c1434d8d7          2\n",
            "1  001639a390f0          4\n",
            "2  0024cdab0c1e          1\n",
            "3  002c21358ce6          0\n",
            "4  005b95c28852          0\n",
            "        id_code\n",
            "0  0005cfc8afb6\n",
            "1  003f0afdcd15\n",
            "2  006efc72b638\n",
            "3  00836aaacf06\n",
            "4  009245722fa4\n"
          ]
        }
      ]
    },
    {
      "cell_type": "code",
      "source": [
        "train_images_path = os.path.join(base_path, \"train_images\")\n",
        "test_images_path  = os.path.join(base_path, \"test_images\")\n"
      ],
      "metadata": {
        "id": "W8Vm5OlhFN8o"
      },
      "execution_count": 19,
      "outputs": []
    },
    {
      "cell_type": "code",
      "source": [
        "import os\n",
        "\n",
        "# List everything in working directory\n",
        "print(\"Files in /kaggle/working/:\")\n",
        "print(os.listdir(\"/kaggle/working/\"))\n",
        "\n",
        "# If the dataset folder is here, list its contents\n",
        "if os.path.exists(\"/kaggle/working/aptos2019-blindness-detection\"):\n",
        "    print(\"Files in /kaggle/working/aptos2019-blindness-detection/:\")\n",
        "    print(os.listdir(\"/kaggle/working/aptos2019-blindness-detection\"))\n"
      ],
      "metadata": {
        "colab": {
          "base_uri": "https://localhost:8080/",
          "height": 228
        },
        "id": "hheluJqTJK1A",
        "outputId": "b413b41e-d7af-4908-d7e6-9ef68cbc5aaf"
      },
      "execution_count": null,
      "outputs": [
        {
          "output_type": "stream",
          "name": "stdout",
          "text": [
            "Files in /kaggle/working/:\n"
          ]
        },
        {
          "output_type": "error",
          "ename": "FileNotFoundError",
          "evalue": "[Errno 2] No such file or directory: '/kaggle/working/'",
          "traceback": [
            "\u001b[0;31m---------------------------------------------------------------------------\u001b[0m",
            "\u001b[0;31mFileNotFoundError\u001b[0m                         Traceback (most recent call last)",
            "\u001b[0;32m/tmp/ipython-input-3877522265.py\u001b[0m in \u001b[0;36m<cell line: 0>\u001b[0;34m()\u001b[0m\n\u001b[1;32m      3\u001b[0m \u001b[0;31m# List everything in working directory\u001b[0m\u001b[0;34m\u001b[0m\u001b[0;34m\u001b[0m\u001b[0m\n\u001b[1;32m      4\u001b[0m \u001b[0mprint\u001b[0m\u001b[0;34m(\u001b[0m\u001b[0;34m\"Files in /kaggle/working/:\"\u001b[0m\u001b[0;34m)\u001b[0m\u001b[0;34m\u001b[0m\u001b[0;34m\u001b[0m\u001b[0m\n\u001b[0;32m----> 5\u001b[0;31m \u001b[0mprint\u001b[0m\u001b[0;34m(\u001b[0m\u001b[0mos\u001b[0m\u001b[0;34m.\u001b[0m\u001b[0mlistdir\u001b[0m\u001b[0;34m(\u001b[0m\u001b[0;34m\"/kaggle/working/\"\u001b[0m\u001b[0;34m)\u001b[0m\u001b[0;34m)\u001b[0m\u001b[0;34m\u001b[0m\u001b[0;34m\u001b[0m\u001b[0m\n\u001b[0m\u001b[1;32m      6\u001b[0m \u001b[0;34m\u001b[0m\u001b[0m\n\u001b[1;32m      7\u001b[0m \u001b[0;31m# If the dataset folder is here, list its contents\u001b[0m\u001b[0;34m\u001b[0m\u001b[0;34m\u001b[0m\u001b[0m\n",
            "\u001b[0;31mFileNotFoundError\u001b[0m: [Errno 2] No such file or directory: '/kaggle/working/'"
          ]
        }
      ]
    },
    {
      "cell_type": "code",
      "source": [],
      "metadata": {
        "id": "ZgsOhhL0JXL6"
      },
      "execution_count": null,
      "outputs": []
    }
  ]
}