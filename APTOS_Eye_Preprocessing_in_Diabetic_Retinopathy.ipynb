{
  "metadata": {
    "kernelspec": {
      "display_name": "Python 3",
      "name": "python3"
    },
    "language_info": {
      "name": "python",
      "version": "3.11.13",
      "mimetype": "text/x-python",
      "codemirror_mode": {
        "name": "ipython",
        "version": 3
      },
      "pygments_lexer": "ipython3",
      "nbconvert_exporter": "python",
      "file_extension": ".py"
    },
    "kaggle": {
      "accelerator": "none",
      "dataSources": [
        {
          "sourceId": 14774,
          "databundleVersionId": 875431,
          "sourceType": "competition"
        }
      ],
      "dockerImageVersionId": 31089,
      "isInternetEnabled": true,
      "language": "python",
      "sourceType": "notebook",
      "isGpuEnabled": false
    },
    "colab": {
      "provenance": [],
      "gpuType": "T4",
      "include_colab_link": true
    },
    "accelerator": "GPU"
  },
  "nbformat_minor": 0,
  "nbformat": 4,
  "cells": [
    {
      "cell_type": "markdown",
      "metadata": {
        "id": "view-in-github",
        "colab_type": "text"
      },
      "source": [
        "<a href=\"https://colab.research.google.com/github/Harshkotkar/Deep-Learning/blob/main/APTOS_Eye_Preprocessing_in_Diabetic_Retinopathy.ipynb\" target=\"_parent\"><img src=\"https://colab.research.google.com/assets/colab-badge.svg\" alt=\"Open In Colab\"/></a>"
      ]
    },
    {
      "source": [
        "# # IMPORTANT: SOME KAGGLE DATA SOURCES ARE PRIVATE\n",
        "# # RUN THIS CELL IN ORDER TO IMPORT YOUR KAGGLE DATA SOURCES.\n",
        "# import kagglehub\n",
        "# kagglehub.login()\n"
      ],
      "metadata": {
        "id": "-tvpMg4FA_wF"
      },
      "cell_type": "code",
      "outputs": [],
      "execution_count": 19
    },
    {
      "cell_type": "markdown",
      "source": [],
      "metadata": {
        "id": "C1Ri3_nagWhn"
      }
    },
    {
      "source": [
        "# IMPORTANT: RUN THIS CELL IN ORDER TO IMPORT YOUR KAGGLE DATA SOURCES,\n",
        "# THEN FEEL FREE TO DELETE THIS CELL.\n",
        "# NOTE: THIS NOTEBOOK ENVIRONMENT DIFFERS FROM KAGGLE'S PYTHON\n",
        "# ENVIRONMENT SO THERE MAY BE MISSING LIBRARIES USED BY YOUR\n",
        "# NOTEBOOK.\n",
        "\n",
        "aptos2019_blindness_detection_path = kagglehub.competition_download('aptos2019-blindness-detection')\n",
        "\n",
        "print('Data source import complete.')\n"
      ],
      "metadata": {
        "id": "pdraKDaUA_wJ",
        "colab": {
          "base_uri": "https://localhost:8080/"
        },
        "outputId": "18f472e6-0c2e-4506-d42c-5e49351d0a30"
      },
      "cell_type": "code",
      "outputs": [
        {
          "output_type": "stream",
          "name": "stdout",
          "text": [
            "Data source import complete.\n"
          ]
        }
      ],
      "execution_count": 4
    },
    {
      "cell_type": "code",
      "source": [
        " # This Python 3 environment comes with many helpful analytics libraries installed\n",
        "# It is defined by the kaggle/python Docker image: https://github.com/kaggle/docker-python\n",
        "# For example, here's several helpful packages to load\n",
        "\n",
        "import numpy as np # linear algebra\n",
        "import pandas as pd # data processing, CSV file I/O (e.g. pd.read_csv)\n",
        "\n",
        "# Input data files are available in the read-only \"../input/\" directory\n",
        "# For example, running this (by clicking run or pressing Shift+Enter) will list all files under the input directory\n",
        "\n",
        "import os\n",
        "for dirname, _, filenames in os.walk('/kaggle/input'):\n",
        "    for filename in filenames:\n",
        "        print(os.path.join(dirname, filename))\n",
        "\n",
        "# You can write up to 20GB to the current directory (/kaggle/working/) that gets preserved as output when you create a version using \"Save & Run All\"\n",
        "# You can also write temporary files to /kaggle/temp/, but they won't be saved outside of the current session"
      ],
      "metadata": {
        "_uuid": "8f2839f25d086af736a60e9eeb907d3b93b6e0e5",
        "_cell_guid": "b1076dfc-b9ad-4769-8c92-a6c4dae69d19",
        "trusted": true,
        "execution": {
          "iopub.status.busy": "2025-08-23T17:36:35.060647Z",
          "iopub.execute_input": "2025-08-23T17:36:35.060857Z",
          "iopub.status.idle": "2025-08-23T17:36:45.258068Z",
          "shell.execute_reply.started": "2025-08-23T17:36:35.060838Z",
          "shell.execute_reply": "2025-08-23T17:36:45.25707Z"
        },
        "id": "vzckUeffA_wK"
      },
      "outputs": [],
      "execution_count": 5
    },
    {
      "cell_type": "code",
      "source": [
        "import os\n",
        "\n",
        "print(aptos2019_blindness_detection_path)  # This shows the base folder\n",
        "print(os.listdir(aptos2019_blindness_detection_path))  # List what’s inside\n"
      ],
      "metadata": {
        "colab": {
          "base_uri": "https://localhost:8080/"
        },
        "id": "sPByTQ9dE9Fr",
        "outputId": "b308f9d6-138e-435a-a531-3d5adf322938"
      },
      "execution_count": 6,
      "outputs": [
        {
          "output_type": "stream",
          "name": "stdout",
          "text": [
            "/root/.cache/kagglehub/competitions/aptos2019-blindness-detection\n",
            "['train_images', 'train.csv', 'test.csv', 'test_images', 'sample_submission.csv']\n"
          ]
        }
      ]
    },
    {
      "cell_type": "code",
      "source": [
        "import os\n",
        "import pandas as pd\n",
        "\n",
        "# Base dataset path\n",
        "base_path = \"/root/.cache/kagglehub/competitions/aptos2019-blindness-detection\"\n",
        "\n",
        "# Load CSVs\n",
        "train_df = pd.read_csv(os.path.join(base_path, \"train.csv\"))\n",
        "test_df = pd.read_csv(os.path.join(base_path, \"test.csv\"))\n",
        "\n",
        "print(train_df.head())\n",
        "print(test_df.head())\n"
      ],
      "metadata": {
        "id": "2xrqPNVhJtd7",
        "colab": {
          "base_uri": "https://localhost:8080/"
        },
        "outputId": "4279ece9-1202-4746-e86d-81ba72da56b4"
      },
      "execution_count": 7,
      "outputs": [
        {
          "output_type": "stream",
          "name": "stdout",
          "text": [
            "        id_code  diagnosis\n",
            "0  000c1434d8d7          2\n",
            "1  001639a390f0          4\n",
            "2  0024cdab0c1e          1\n",
            "3  002c21358ce6          0\n",
            "4  005b95c28852          0\n",
            "        id_code\n",
            "0  0005cfc8afb6\n",
            "1  003f0afdcd15\n",
            "2  006efc72b638\n",
            "3  00836aaacf06\n",
            "4  009245722fa4\n"
          ]
        }
      ]
    },
    {
      "cell_type": "code",
      "source": [
        "train_images_path = os.path.join(base_path, \"train_images\")\n",
        "test_images_path  = os.path.join(base_path, \"test_images\")\n"
      ],
      "metadata": {
        "id": "W8Vm5OlhFN8o"
      },
      "execution_count": 8,
      "outputs": []
    },
    {
      "cell_type": "markdown",
      "source": [
        "###Why tf.data? Efficient handling of large image datasets → parallelism + prefetching.\n",
        "\n",
        "Why resize to (224×224)? Most pretrained CNN backbones (ResNet, EfficientNet, Inception) expect 224×224 inputs. Keeping consistency allows us to later plug in pretrained models easily.\n",
        "\n",
        "Why normalize (0–1)? Neural nets converge faster when input values are small and consistent. Images originally have pixel values 0–255; dividing by 255 standardizes them. New section"
      ],
      "metadata": {
        "id": "upocOVtKOlOb"
      }
    },
    {
      "cell_type": "code",
      "source": [
        "import tensorflow as tf\n",
        "import os\n",
        "\n",
        "train_imgs = \"/root/.cache/kagglehub/competitions/aptos2019-blindness-detection/train_images\"\n",
        "\n",
        "IMG_SIZE = 224\n",
        "BATCH_SIZE = 32\n",
        "\n",
        "def load_image(img_id, label):\n",
        "    # Create image path using tf.strings.join\n",
        "    img_path = tf.strings.join([train_imgs, \"/\", img_id, \".png\"])\n",
        "\n",
        "    # Read image file\n",
        "    img = tf.io.read_file(img_path)\n",
        "    img = tf.image.decode_png(img, channels=3)\n",
        "    img = tf.image.resize(img, [IMG_SIZE, IMG_SIZE])\n",
        "    img = img / 255.0  # normalize\n",
        "\n",
        "    return img, label\n",
        "\n",
        "# Convert dataset\n",
        "train_ds = tf.data.Dataset.from_tensor_slices((train_df['id_code'].values,\n",
        "                                               train_df['diagnosis'].values))\n",
        "train_ds = train_ds.map(load_image, num_parallel_calls=tf.data.AUTOTUNE)\n",
        "train_ds = train_ds.shuffle(1024).batch(BATCH_SIZE).prefetch(tf.data.AUTOTUNE)\n"
      ],
      "metadata": {
        "id": "hheluJqTJK1A"
      },
      "execution_count": 9,
      "outputs": []
    },
    {
      "cell_type": "markdown",
      "source": [
        "### Train Test Split"
      ],
      "metadata": {
        "id": "IUzo7u2RPDCx"
      }
    },
    {
      "cell_type": "markdown",
      "source": [
        "##why do we not do the X_train ,Y_train, that one split?\n",
        "### Our Case (APTOS Dataset)\n",
        "\n",
        "Our dataframe looks like this:\n",
        "\n",
        "id_code         \tdiagnosis\n",
        "000c1434d8d7\t       2\n",
        "001639a390f0\t       4\n",
        "0024cdab0c1e\t       1\n",
        "id_code → not really a feature, it’s just the filename of the image.\n",
        "\n",
        "diagnosis → the label (0–4).\n",
        "\n",
        "\n",
        "##In this dataset, the dataframe doesn’t directly contain the features (images).\n",
        "\n",
        "##Instead, it maps id_code (filename) → diagnosis (label).\n",
        "\n",
        "##We split the dataframe rows while keeping both columns, then later load the actual images using those filenames."
      ],
      "metadata": {
        "id": "ouyEcGfARj9m"
      }
    },
    {
      "cell_type": "markdown",
      "source": [
        "###Why stratify?\n",
        "Because the dataset is imbalanced (some disease classes are rarer). stratify ensures both train and validation have similar class distributions."
      ],
      "metadata": {
        "id": "8_yM2PwMPd48"
      }
    },
    {
      "cell_type": "code",
      "source": [
        "from sklearn.model_selection import train_test_split\n",
        "\n",
        "# Train-validation split\n",
        "train_df, val_df = train_test_split(train_df, test_size=0.2, stratify=train_df['diagnosis'], random_state=42)\n",
        "\n",
        "print(\"Training samples:\", len(train_df))\n",
        "print(\"Validation samples:\", len(val_df))\n"
      ],
      "metadata": {
        "id": "ZgsOhhL0JXL6",
        "colab": {
          "base_uri": "https://localhost:8080/"
        },
        "outputId": "4133825a-ae2b-4878-a1e0-dc0e92c5e3c5"
      },
      "execution_count": 10,
      "outputs": [
        {
          "output_type": "stream",
          "name": "stdout",
          "text": [
            "Training samples: 2929\n",
            "Validation samples: 733\n"
          ]
        }
      ]
    },
    {
      "cell_type": "code",
      "source": [
        "!ls /root/.cache/kagglehub/competitions/aptos2019-blindness-detection/train_images | head -20\n"
      ],
      "metadata": {
        "colab": {
          "base_uri": "https://localhost:8080/"
        },
        "id": "Fn_q2Zzpcguy",
        "outputId": "2a5606f5-9671-4d3e-c4d4-a6d622f65c0b"
      },
      "execution_count": 11,
      "outputs": [
        {
          "output_type": "stream",
          "name": "stdout",
          "text": [
            "000c1434d8d7.png\n",
            "001639a390f0.png\n",
            "0024cdab0c1e.png\n",
            "002c21358ce6.png\n",
            "005b95c28852.png\n",
            "0083ee8054ee.png\n",
            "0097f532ac9f.png\n",
            "00a8624548a9.png\n",
            "00b74780d31d.png\n",
            "00cb6555d108.png\n",
            "00cc2b75cddd.png\n",
            "00e4ddff966a.png\n",
            "00f6c1be5a33.png\n",
            "0104b032c141.png\n",
            "0124dffecf29.png\n",
            "0125fbd2e791.png\n",
            "012a242ac6ff.png\n",
            "014508ccb9cb.png\n",
            "0151781fe50b.png\n",
            "0161338f53cc.png\n"
          ]
        }
      ]
    },
    {
      "cell_type": "markdown",
      "source": [],
      "metadata": {
        "id": "12an7OuPfOhq"
      }
    },
    {
      "cell_type": "code",
      "source": [
        "# train_imgs = \"/root/.cache/kagglehub/competitions/aptos2019-blindness-detection/train_images\"\n",
        "\n",
        "# # Fix filenames to match actual files\n",
        "# train_df[\"id_code\"] = train_df[\"id_code\"].astype(str) + \".png\"\n",
        "# test_df[\"id_code\"]  = test_df[\"id_code\"].astype(str) + \".png\"\n",
        "\n",
        "# # ImageDataGenerator\n",
        "# from tensorflow.keras.preprocessing.image import ImageDataGenerator\n",
        "\n",
        "# train_datagen = ImageDataGenerator(validation_split=0.2, rescale=1./255)\n",
        "\n",
        "# train_generator = train_datagen.flow_from_dataframe(\n",
        "#     dataframe=train_df,\n",
        "#     directory=\"/root/.cache/kagglehub/competitions/aptos2019-blindness-detection/train_images\",\n",
        "#     x_col=\"id_code\",\n",
        "#     y_col=\"diagnosis\",\n",
        "#     subset=\"training\",\n",
        "#     batch_size=32,\n",
        "#     seed=42,\n",
        "#     shuffle=True,\n",
        "#     class_mode=\"categorical\",\n",
        "#     target_size=(224, 224))\n",
        "\n",
        "# valid_generator = train_datagen.flow_from_dataframe(\n",
        "#     dataframe=train_df,\n",
        "#     directory=\"/root/.cache/kagglehub/competitions/aptos2019-blindness-detection/train_images\",\n",
        "#     x_col=\"id_code\",\n",
        "#     y_col=\"diagnosis\",\n",
        "#     subset=\"validation\",\n",
        "#     batch_size=32,\n",
        "#     seed=42,\n",
        "#     shuffle=True,\n",
        "#     class_mode=\"categorical\",\n",
        "#     target_size=(224, 224))\n",
        "\n"
      ],
      "metadata": {
        "id": "h7jhNKB3dF5Q"
      },
      "execution_count": 15,
      "outputs": []
    },
    {
      "cell_type": "code",
      "source": [
        "# Fix filenames first (only one .png at the end)\n",
        "train_df[\"id_code\"] = train_df[\"id_code\"].str.replace(r\"(\\.png)+$\", \".png\", regex=True)\n",
        "test_df[\"id_code\"]  = test_df[\"id_code\"].str.replace(r\"(\\.png)+$\", \".png\", regex=True)\n",
        "\n",
        "# Train-validation split\n",
        "from sklearn.model_selection import train_test_split\n",
        "train_df, val_df = train_test_split(train_df, test_size=0.2, stratify=train_df['diagnosis'], random_state=42)\n",
        "\n",
        "# Define dataset loader\n",
        "def load_image(img_id, label):\n",
        "    img_path = tf.strings.join([train_imgs, \"/\", img_id])\n",
        "    img = tf.io.read_file(img_path)\n",
        "    img = tf.image.decode_png(img, channels=3)\n",
        "    img = tf.image.resize(img, [IMG_SIZE, IMG_SIZE])\n",
        "    img = img / 255.0\n",
        "    return img, label\n",
        "\n",
        "# Create datasets\n",
        "train_ds = tf.data.Dataset.from_tensor_slices((train_df[\"id_code\"].values, train_df[\"diagnosis\"].values))\n",
        "train_ds = train_ds.map(load_image, num_parallel_calls=tf.data.AUTOTUNE).shuffle(1024).batch(BATCH_SIZE).prefetch(tf.data.AUTOTUNE)\n",
        "\n",
        "val_ds = tf.data.Dataset.from_tensor_slices((val_df[\"id_code\"].values, val_df[\"diagnosis\"].values))\n",
        "val_ds = val_ds.map(load_image, num_parallel_calls=tf.data.AUTOTUNE).batch(BATCH_SIZE).prefetch(tf.data.AUTOTUNE)\n"
      ],
      "metadata": {
        "id": "959KJZhrgAnk"
      },
      "execution_count": 16,
      "outputs": []
    },
    {
      "cell_type": "code",
      "source": [
        "import os\n",
        "\n",
        "train_imgs = \"/root/.cache/kagglehub/competitions/aptos2019-blindness-detection/train_images\"\n",
        "files = os.listdir(train_imgs)\n",
        "print(\"Total files in train_images:\", len(files))\n",
        "print(\"First 10 files:\", files[:10])\n"
      ],
      "metadata": {
        "colab": {
          "base_uri": "https://localhost:8080/"
        },
        "id": "UkIzqNB0e-oi",
        "outputId": "6a6d0d90-9884-4ee1-e93d-752f44b5932f"
      },
      "execution_count": 18,
      "outputs": [
        {
          "output_type": "stream",
          "name": "stdout",
          "text": [
            "Total files in train_images: 3662\n",
            "First 10 files: ['a3b2e93d058b.png', '936299166bea.png', '5b3d41626ec5.png', '172df1330a60.png', '25d069089c5e.png', '504a69096fcb.png', 'cd5714db652d.png', 'cd1c98ec48b1.png', '7f1f3269f546.png', 'a30a143a53a3.png']\n"
          ]
        }
      ]
    },
    {
      "cell_type": "code",
      "source": [
        "# Check if all image names exist in train_images folder\n",
        "missing_files = [f for f in train_df[\"id_code\"].values if f not in files]\n",
        "print(\"Missing files:\", len(missing_files))\n",
        "print(missing_files[:10])\n"
      ],
      "metadata": {
        "colab": {
          "base_uri": "https://localhost:8080/"
        },
        "id": "ODeTwreRfE9O",
        "outputId": "28a30a1e-6f59-407f-a97f-72847eb2012b"
      },
      "execution_count": 17,
      "outputs": [
        {
          "output_type": "stream",
          "name": "stdout",
          "text": [
            "Missing files: 0\n",
            "[]\n"
          ]
        }
      ]
    },
    {
      "cell_type": "code",
      "source": [
        "from tensorflow.keras import layers, models\n",
        "\n",
        "# Simple CNN Model\n",
        "\n",
        "model = models.Sequential([\n",
        "        layers.Conv2D(32, (3,3), activation='relu', input_shape=(224,224,3)),\n",
        "        layers.MaxPooling2D((2,2)),\n",
        "\n",
        "        layers.Conv2D(64, (3,3), activation='relu'),\n",
        "        layers.MaxPooling2D((2,2)),\n",
        "\n",
        "        layers.Conv2D(128, (3,3), activation='relu'),\n",
        "        layers.MaxPooling2D((2,2)),\n",
        "\n",
        "        layers.Flatten(),\n",
        "        layers.Dense(128, activation='relu'),\n",
        "        layers.Dropout(0.2),\n",
        "        layers.Dense(5, activation='softmax')\n",
        "])\n",
        "\n"
      ],
      "metadata": {
        "id": "hLfXMJFBPLRQ"
      },
      "execution_count": null,
      "outputs": []
    },
    {
      "cell_type": "code",
      "source": [
        "# Compile the model\n",
        "model.compile(optimizer='adam',\n",
        "              loss='sparse_categorical_crossentropy',\n",
        "              metrics=['accuracy'])\n",
        "\n",
        "model.summary()\n",
        "#conv2d_4\n",
        "#Kh=kernal heingt,Kw=kernal width, Cin=chanel input as rgb it  is 3 and grayscal is 1\n",
        "#(Kh x Kw x Cin x Cout )+Cout\n",
        "#(3×3×32×64)+64=(18,432)+64=18,496"
      ],
      "metadata": {
        "id": "FKcCfeXkXHfP"
      },
      "execution_count": null,
      "outputs": []
    },
    {
      "cell_type": "code",
      "source": [
        "history=model.fit(train_ds,\n",
        "                  validation_data=val_ds,\n",
        "                  epochs=10,\n",
        "                  verbose=1)"
      ],
      "metadata": {
        "id": "UjbVAc80Xsvy"
      },
      "execution_count": null,
      "outputs": []
    },
    {
      "cell_type": "code",
      "source": [],
      "metadata": {
        "id": "Gthz1UTHamFC"
      },
      "execution_count": null,
      "outputs": []
    }
  ]
}